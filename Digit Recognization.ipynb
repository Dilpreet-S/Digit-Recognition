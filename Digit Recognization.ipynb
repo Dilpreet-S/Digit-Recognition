{
 "cells": [
  {
   "cell_type": "code",
   "execution_count": 1,
   "metadata": {},
   "outputs": [
    {
     "name": "stdout",
     "output_type": "stream",
     "text": [
      "Requirement already satisfied: keras in c:\\users\\dilpreet\\anaconda3\\envs\\digit\\lib\\site-packages (2.3.1)\n",
      "Requirement already satisfied: numpy>=1.9.1 in c:\\users\\dilpreet\\anaconda3\\envs\\digit\\lib\\site-packages (from keras) (1.18.5)\n",
      "Requirement already satisfied: scipy>=0.14 in c:\\users\\dilpreet\\anaconda3\\envs\\digit\\lib\\site-packages (from keras) (1.4.1)\n",
      "Requirement already satisfied: six>=1.9.0 in c:\\users\\dilpreet\\anaconda3\\envs\\digit\\lib\\site-packages (from keras) (1.15.0)\n",
      "Requirement already satisfied: pyyaml in c:\\users\\dilpreet\\anaconda3\\envs\\digit\\lib\\site-packages (from keras) (5.3.1)\n",
      "Requirement already satisfied: h5py in c:\\users\\dilpreet\\anaconda3\\envs\\digit\\lib\\site-packages (from keras) (2.10.0)\n",
      "Requirement already satisfied: keras_applications>=1.0.6 in c:\\users\\dilpreet\\anaconda3\\envs\\digit\\lib\\site-packages (from keras) (1.0.8)\n",
      "Requirement already satisfied: keras_preprocessing>=1.0.5 in c:\\users\\dilpreet\\anaconda3\\envs\\digit\\lib\\site-packages (from keras) (1.1.0)\n",
      "Requirement already satisfied: tensorflow in c:\\users\\dilpreet\\anaconda3\\envs\\digit\\lib\\site-packages (2.1.0)\n",
      "Requirement already satisfied: grpcio>=1.8.6 in c:\\users\\dilpreet\\anaconda3\\envs\\digit\\lib\\site-packages (from tensorflow) (1.27.2)\n",
      "Requirement already satisfied: protobuf>=3.8.0 in c:\\users\\dilpreet\\anaconda3\\envs\\digit\\lib\\site-packages (from tensorflow) (3.12.3)\n",
      "Requirement already satisfied: wrapt>=1.11.1 in c:\\users\\dilpreet\\anaconda3\\envs\\digit\\lib\\site-packages (from tensorflow) (1.12.1)\n",
      "Requirement already satisfied: numpy<2.0,>=1.16.0 in c:\\users\\dilpreet\\anaconda3\\envs\\digit\\lib\\site-packages (from tensorflow) (1.18.5)\n",
      "Requirement already satisfied: keras-applications>=1.0.8 in c:\\users\\dilpreet\\anaconda3\\envs\\digit\\lib\\site-packages (from tensorflow) (1.0.8)\n",
      "Requirement already satisfied: wheel>=0.26; python_version >= \"3\" in c:\\users\\dilpreet\\anaconda3\\envs\\digit\\lib\\site-packages (from tensorflow) (0.34.2)\n",
      "Requirement already satisfied: absl-py>=0.7.0 in c:\\users\\dilpreet\\anaconda3\\envs\\digit\\lib\\site-packages (from tensorflow) (0.9.0)\n",
      "Requirement already satisfied: tensorboard<2.2.0,>=2.1.0 in c:\\users\\dilpreet\\anaconda3\\envs\\digit\\lib\\site-packages (from tensorflow) (2.1.1)\n",
      "Requirement already satisfied: gast==0.2.2 in c:\\users\\dilpreet\\anaconda3\\envs\\digit\\lib\\site-packages (from tensorflow) (0.2.2)\n",
      "Requirement already satisfied: tensorflow-estimator<2.2.0,>=2.1.0rc0 in c:\\users\\dilpreet\\anaconda3\\envs\\digit\\lib\\site-packages (from tensorflow) (2.1.0)\n",
      "Requirement already satisfied: scipy==1.4.1; python_version >= \"3\" in c:\\users\\dilpreet\\anaconda3\\envs\\digit\\lib\\site-packages (from tensorflow) (1.4.1)\n",
      "Requirement already satisfied: keras-preprocessing>=1.1.0 in c:\\users\\dilpreet\\anaconda3\\envs\\digit\\lib\\site-packages (from tensorflow) (1.1.0)\n",
      "Requirement already satisfied: termcolor>=1.1.0 in c:\\users\\dilpreet\\anaconda3\\envs\\digit\\lib\\site-packages (from tensorflow) (1.1.0)\n",
      "Requirement already satisfied: six>=1.12.0 in c:\\users\\dilpreet\\anaconda3\\envs\\digit\\lib\\site-packages (from tensorflow) (1.15.0)\n",
      "Requirement already satisfied: astor>=0.6.0 in c:\\users\\dilpreet\\anaconda3\\envs\\digit\\lib\\site-packages (from tensorflow) (0.8.0)\n",
      "Requirement already satisfied: google-pasta>=0.1.6 in c:\\users\\dilpreet\\anaconda3\\envs\\digit\\lib\\site-packages (from tensorflow) (0.2.0)\n",
      "Requirement already satisfied: opt-einsum>=2.3.2 in c:\\users\\dilpreet\\anaconda3\\envs\\digit\\lib\\site-packages (from tensorflow) (3.1.0)\n",
      "Requirement already satisfied: setuptools in c:\\users\\dilpreet\\anaconda3\\envs\\digit\\lib\\site-packages (from protobuf>=3.8.0->tensorflow) (47.3.1.post20200622)\n",
      "Requirement already satisfied: h5py in c:\\users\\dilpreet\\anaconda3\\envs\\digit\\lib\\site-packages (from keras-applications>=1.0.8->tensorflow) (2.10.0)\n",
      "Requirement already satisfied: google-auth<2,>=1.6.3 in c:\\users\\dilpreet\\anaconda3\\envs\\digit\\lib\\site-packages (from tensorboard<2.2.0,>=2.1.0->tensorflow) (1.14.1)\n",
      "Requirement already satisfied: markdown>=2.6.8 in c:\\users\\dilpreet\\anaconda3\\envs\\digit\\lib\\site-packages (from tensorboard<2.2.0,>=2.1.0->tensorflow) (3.1.1)\n",
      "Requirement already satisfied: google-auth-oauthlib<0.5,>=0.4.1 in c:\\users\\dilpreet\\anaconda3\\envs\\digit\\lib\\site-packages (from tensorboard<2.2.0,>=2.1.0->tensorflow) (0.4.1)\n",
      "Requirement already satisfied: requests<3,>=2.21.0 in c:\\users\\dilpreet\\anaconda3\\envs\\digit\\lib\\site-packages (from tensorboard<2.2.0,>=2.1.0->tensorflow) (2.24.0)\n",
      "Requirement already satisfied: werkzeug>=0.11.15 in c:\\users\\dilpreet\\anaconda3\\envs\\digit\\lib\\site-packages (from tensorboard<2.2.0,>=2.1.0->tensorflow) (1.0.1)\n",
      "Requirement already satisfied: pyasn1-modules>=0.2.1 in c:\\users\\dilpreet\\anaconda3\\envs\\digit\\lib\\site-packages (from google-auth<2,>=1.6.3->tensorboard<2.2.0,>=2.1.0->tensorflow) (0.2.7)\n",
      "Requirement already satisfied: rsa<4.1,>=3.1.4 in c:\\users\\dilpreet\\anaconda3\\envs\\digit\\lib\\site-packages (from google-auth<2,>=1.6.3->tensorboard<2.2.0,>=2.1.0->tensorflow) (4.0)\n",
      "Requirement already satisfied: cachetools<5.0,>=2.0.0 in c:\\users\\dilpreet\\anaconda3\\envs\\digit\\lib\\site-packages (from google-auth<2,>=1.6.3->tensorboard<2.2.0,>=2.1.0->tensorflow) (4.1.0)\n",
      "Requirement already satisfied: requests-oauthlib>=0.7.0 in c:\\users\\dilpreet\\anaconda3\\envs\\digit\\lib\\site-packages (from google-auth-oauthlib<0.5,>=0.4.1->tensorboard<2.2.0,>=2.1.0->tensorflow) (1.3.0)\n",
      "Requirement already satisfied: urllib3!=1.25.0,!=1.25.1,<1.26,>=1.21.1 in c:\\users\\dilpreet\\anaconda3\\envs\\digit\\lib\\site-packages (from requests<3,>=2.21.0->tensorboard<2.2.0,>=2.1.0->tensorflow) (1.25.9)\n",
      "Requirement already satisfied: certifi>=2017.4.17 in c:\\users\\dilpreet\\anaconda3\\envs\\digit\\lib\\site-packages (from requests<3,>=2.21.0->tensorboard<2.2.0,>=2.1.0->tensorflow) (2020.6.20)\n",
      "Requirement already satisfied: idna<3,>=2.5 in c:\\users\\dilpreet\\anaconda3\\envs\\digit\\lib\\site-packages (from requests<3,>=2.21.0->tensorboard<2.2.0,>=2.1.0->tensorflow) (2.10)\n",
      "Requirement already satisfied: chardet<4,>=3.0.2 in c:\\users\\dilpreet\\anaconda3\\envs\\digit\\lib\\site-packages (from requests<3,>=2.21.0->tensorboard<2.2.0,>=2.1.0->tensorflow) (3.0.4)\n",
      "Requirement already satisfied: pyasn1<0.5.0,>=0.4.6 in c:\\users\\dilpreet\\anaconda3\\envs\\digit\\lib\\site-packages (from pyasn1-modules>=0.2.1->google-auth<2,>=1.6.3->tensorboard<2.2.0,>=2.1.0->tensorflow) (0.4.8)\n",
      "Requirement already satisfied: oauthlib>=3.0.0 in c:\\users\\dilpreet\\anaconda3\\envs\\digit\\lib\\site-packages (from requests-oauthlib>=0.7.0->google-auth-oauthlib<0.5,>=0.4.1->tensorboard<2.2.0,>=2.1.0->tensorflow) (3.1.0)\n",
      "Requirement already satisfied: pandas in c:\\users\\dilpreet\\anaconda3\\envs\\digit\\lib\\site-packages (1.0.5)\n",
      "Requirement already satisfied: numpy>=1.13.3 in c:\\users\\dilpreet\\anaconda3\\envs\\digit\\lib\\site-packages (from pandas) (1.18.5)\n",
      "Requirement already satisfied: pytz>=2017.2 in c:\\users\\dilpreet\\anaconda3\\envs\\digit\\lib\\site-packages (from pandas) (2020.1)\n",
      "Requirement already satisfied: python-dateutil>=2.6.1 in c:\\users\\dilpreet\\anaconda3\\envs\\digit\\lib\\site-packages (from pandas) (2.8.1)\n",
      "Requirement already satisfied: six>=1.5 in c:\\users\\dilpreet\\anaconda3\\envs\\digit\\lib\\site-packages (from python-dateutil>=2.6.1->pandas) (1.15.0)\n",
      "Requirement already satisfied: matplotlib in c:\\users\\dilpreet\\anaconda3\\envs\\digit\\lib\\site-packages (3.2.2)\n",
      "Requirement already satisfied: numpy>=1.11 in c:\\users\\dilpreet\\anaconda3\\envs\\digit\\lib\\site-packages (from matplotlib) (1.18.5)\n",
      "Requirement already satisfied: pyparsing!=2.0.4,!=2.1.2,!=2.1.6,>=2.0.1 in c:\\users\\dilpreet\\anaconda3\\envs\\digit\\lib\\site-packages (from matplotlib) (2.4.7)\n",
      "Requirement already satisfied: python-dateutil>=2.1 in c:\\users\\dilpreet\\anaconda3\\envs\\digit\\lib\\site-packages (from matplotlib) (2.8.1)\n",
      "Requirement already satisfied: kiwisolver>=1.0.1 in c:\\users\\dilpreet\\anaconda3\\envs\\digit\\lib\\site-packages (from matplotlib) (1.2.0)\n",
      "Requirement already satisfied: cycler>=0.10 in c:\\users\\dilpreet\\anaconda3\\envs\\digit\\lib\\site-packages (from matplotlib) (0.10.0)\n",
      "Requirement already satisfied: six>=1.5 in c:\\users\\dilpreet\\anaconda3\\envs\\digit\\lib\\site-packages (from python-dateutil>=2.1->matplotlib) (1.15.0)\n",
      "Requirement already satisfied: seaborn in c:\\users\\dilpreet\\anaconda3\\envs\\digit\\lib\\site-packages (0.10.1)\n",
      "Requirement already satisfied: numpy>=1.13.3 in c:\\users\\dilpreet\\anaconda3\\envs\\digit\\lib\\site-packages (from seaborn) (1.18.5)\n",
      "Requirement already satisfied: scipy>=1.0.1 in c:\\users\\dilpreet\\anaconda3\\envs\\digit\\lib\\site-packages (from seaborn) (1.4.1)\n",
      "Requirement already satisfied: matplotlib>=2.1.2 in c:\\users\\dilpreet\\anaconda3\\envs\\digit\\lib\\site-packages (from seaborn) (3.2.2)\n",
      "Requirement already satisfied: pandas>=0.22.0 in c:\\users\\dilpreet\\anaconda3\\envs\\digit\\lib\\site-packages (from seaborn) (1.0.5)\n",
      "Requirement already satisfied: kiwisolver>=1.0.1 in c:\\users\\dilpreet\\anaconda3\\envs\\digit\\lib\\site-packages (from matplotlib>=2.1.2->seaborn) (1.2.0)\n",
      "Requirement already satisfied: cycler>=0.10 in c:\\users\\dilpreet\\anaconda3\\envs\\digit\\lib\\site-packages (from matplotlib>=2.1.2->seaborn) (0.10.0)\n",
      "Requirement already satisfied: python-dateutil>=2.1 in c:\\users\\dilpreet\\anaconda3\\envs\\digit\\lib\\site-packages (from matplotlib>=2.1.2->seaborn) (2.8.1)\n",
      "Requirement already satisfied: pyparsing!=2.0.4,!=2.1.2,!=2.1.6,>=2.0.1 in c:\\users\\dilpreet\\anaconda3\\envs\\digit\\lib\\site-packages (from matplotlib>=2.1.2->seaborn) (2.4.7)\n",
      "Requirement already satisfied: pytz>=2017.2 in c:\\users\\dilpreet\\anaconda3\\envs\\digit\\lib\\site-packages (from pandas>=0.22.0->seaborn) (2020.1)\n",
      "Requirement already satisfied: six in c:\\users\\dilpreet\\anaconda3\\envs\\digit\\lib\\site-packages (from cycler>=0.10->matplotlib>=2.1.2->seaborn) (1.15.0)\n"
     ]
    },
    {
     "name": "stdout",
     "output_type": "stream",
     "text": [
      "Requirement already satisfied: sklearn in c:\\users\\dilpreet\\anaconda3\\envs\\digit\\lib\\site-packages (0.0)\n",
      "Requirement already satisfied: scikit-learn in c:\\users\\dilpreet\\anaconda3\\envs\\digit\\lib\\site-packages (from sklearn) (0.23.1)\n",
      "Requirement already satisfied: threadpoolctl>=2.0.0 in c:\\users\\dilpreet\\anaconda3\\envs\\digit\\lib\\site-packages (from scikit-learn->sklearn) (2.1.0)\n",
      "Requirement already satisfied: joblib>=0.11 in c:\\users\\dilpreet\\anaconda3\\envs\\digit\\lib\\site-packages (from scikit-learn->sklearn) (0.16.0)\n",
      "Requirement already satisfied: numpy>=1.13.3 in c:\\users\\dilpreet\\anaconda3\\envs\\digit\\lib\\site-packages (from scikit-learn->sklearn) (1.18.5)\n",
      "Requirement already satisfied: scipy>=0.19.1 in c:\\users\\dilpreet\\anaconda3\\envs\\digit\\lib\\site-packages (from scikit-learn->sklearn) (1.4.1)\n"
     ]
    }
   ],
   "source": [
    "!pip install keras\n",
    "!pip install tensorflow\n",
    "!pip install pandas\n",
    "!pip install matplotlib\n",
    "!pip install seaborn\n",
    "!pip install sklearn"
   ]
  },
  {
   "cell_type": "code",
   "execution_count": 2,
   "metadata": {},
   "outputs": [],
   "source": [
    "import pandas as pd\n",
    "import numpy as np\n",
    "import matplotlib.pyplot as plt\n",
    "import matplotlib.image as mpimg\n",
    "import seaborn as sns\n",
    "%matplotlib inline\n",
    "\n"
   ]
  },
  {
   "cell_type": "code",
   "execution_count": 3,
   "metadata": {},
   "outputs": [
    {
     "name": "stderr",
     "output_type": "stream",
     "text": [
      "Using TensorFlow backend.\n"
     ]
    }
   ],
   "source": [
    "from sklearn.model_selection import train_test_split\n",
    "from keras.utils.np_utils import to_categorical # convert to one-hot-encoding\n",
    "import keras\n",
    "from keras.layers import Conv2D, MaxPooling2D\n",
    "from keras.layers import Dense, Flatten\n",
    "from keras.models import Sequential\n",
    "from keras.layers import BatchNormalization\n",
    "from keras.layers import Dropout\n",
    "from keras.callbacks import ReduceLROnPlateau\n",
    "np.random.seed(1000)"
   ]
  },
  {
   "cell_type": "code",
   "execution_count": 4,
   "metadata": {},
   "outputs": [],
   "source": [
    "train = pd.read_csv(\"train.csv\")\n",
    "test = pd.read_csv(\"test.csv\")"
   ]
  },
  {
   "cell_type": "code",
   "execution_count": 5,
   "metadata": {},
   "outputs": [],
   "source": [
    "Y_train = train[\"label\"]\n",
    "X_train = train.drop(labels = [\"label\"],axis = 1) \n",
    "\n"
   ]
  },
  {
   "cell_type": "code",
   "execution_count": 6,
   "metadata": {},
   "outputs": [
    {
     "name": "stdout",
     "output_type": "stream",
     "text": [
      "(42000, 785)\n",
      "(28000, 784)\n"
     ]
    }
   ],
   "source": [
    "print(train.shape)\n",
    "print(test.shape)"
   ]
  },
  {
   "cell_type": "code",
   "execution_count": 7,
   "metadata": {},
   "outputs": [],
   "source": [
    "X_train = X_train / 255.0\n",
    "test = test/ 255.0\n"
   ]
  },
  {
   "cell_type": "code",
   "execution_count": 8,
   "metadata": {},
   "outputs": [
    {
     "name": "stdout",
     "output_type": "stream",
     "text": [
      "(42000, 28, 28, 1)\n",
      "(28000, 28, 28, 1)\n"
     ]
    }
   ],
   "source": [
    "#Reshaping the data\n",
    "X_train = X_train.values.reshape(-1,28,28,1)\n",
    "test = test.values.reshape(-1,28,28,1)\n",
    "\n",
    "print(X_train.shape)\n",
    "print(test.shape)"
   ]
  },
  {
   "cell_type": "code",
   "execution_count": 9,
   "metadata": {},
   "outputs": [
    {
     "name": "stdout",
     "output_type": "stream",
     "text": [
      "(42000, 10)\n"
     ]
    }
   ],
   "source": [
    "#converting to categorical \n",
    "Y_train= to_categorical(Y_train, num_classes=10)\n",
    "\n",
    "print(Y_train.shape)\n"
   ]
  },
  {
   "cell_type": "code",
   "execution_count": 10,
   "metadata": {},
   "outputs": [],
   "source": [
    "\n",
    "# Split the train and the validation set for the fitting\n",
    "X_train, X_val, Y_train, Y_val = train_test_split(X_train, Y_train, test_size = 0.25, random_state=2)"
   ]
  },
  {
   "cell_type": "code",
   "execution_count": 11,
   "metadata": {
    "scrolled": true
   },
   "outputs": [
    {
     "name": "stdout",
     "output_type": "stream",
     "text": [
      "Model: \"sequential_1\"\n",
      "_________________________________________________________________\n",
      "Layer (type)                 Output Shape              Param #   \n",
      "=================================================================\n",
      "conv2d_1 (Conv2D)            (None, 24, 24, 6)         156       \n",
      "_________________________________________________________________\n",
      "batch_normalization_1 (Batch (None, 24, 24, 6)         24        \n",
      "_________________________________________________________________\n",
      "max_pooling2d_1 (MaxPooling2 (None, 12, 12, 6)         0         \n",
      "_________________________________________________________________\n",
      "dropout_1 (Dropout)          (None, 12, 12, 6)         0         \n",
      "_________________________________________________________________\n",
      "conv2d_2 (Conv2D)            (None, 8, 8, 16)          2416      \n",
      "_________________________________________________________________\n",
      "max_pooling2d_2 (MaxPooling2 (None, 4, 4, 16)          0         \n",
      "_________________________________________________________________\n",
      "dropout_2 (Dropout)          (None, 4, 4, 16)          0         \n",
      "_________________________________________________________________\n",
      "flatten_1 (Flatten)          (None, 256)               0         \n",
      "_________________________________________________________________\n",
      "dense_1 (Dense)              (None, 120)               30840     \n",
      "_________________________________________________________________\n",
      "dense_2 (Dense)              (None, 84)                10164     \n",
      "_________________________________________________________________\n",
      "dense_3 (Dense)              (None, 10)                850       \n",
      "=================================================================\n",
      "Total params: 44,450\n",
      "Trainable params: 44,438\n",
      "Non-trainable params: 12\n",
      "_________________________________________________________________\n"
     ]
    }
   ],
   "source": [
    "model = Sequential()\n",
    "\n",
    "\n",
    "model.add(Conv2D(6, kernel_size=(5, 5), activation='relu', input_shape=(28, 28, 1)))\n",
    "# The input of this layer is the output of the first layer, which is a 28 * 28 * 6 node matrix.\n",
    "# The size of the filter used in this layer is 2 * 2, and the step length and width are both 2, so the output matrix size of this layer is 14 * 14 * 6.\n",
    "#Batch Normalization\n",
    "model.add(BatchNormalization())\n",
    "\n",
    "model.add(MaxPooling2D(pool_size=(2, 2)))\n",
    "model.add(Dropout(0.16))\n",
    "\n",
    "# The input matrix size of this layer is 14 * 14 * 6, the filter size used is 5 * 5, and the depth is 16. This layer does not use all 0 padding, and the step size is 1.\n",
    "# The output matrix size of this layer is 10 * 10 * 16. This layer has 5 * 5 * 6 * 16 + 16 = 2416 parameters\n",
    "model.add(Conv2D(16, kernel_size=(5, 5), activation='relu'))\n",
    "# The input matrix size of this layer is 10 * 10 * 16. The size of the filter used in this layer is 2 * 2, and the length and width steps are both 2, so the output matrix size of this layer is 5 * 5 * 16.\n",
    "model.add(MaxPooling2D(pool_size=(2, 2)))\n",
    "model.add(Dropout(0.26))\n",
    "# The input matrix size of this layer is 5 * 5 * 16. This layer is called a convolution layer in the LeNet-5 paper, but because the size of the filter is 5 * 5, #\n",
    "# So it is not different from the fully connected layer. If the nodes in the 5 * 5 * 16 matrix are pulled into a vector, then this layer is the same as the fully connected layer.\n",
    "# The number of output nodes in this layer is 120, with a total of 5 * 5 * 16 * 120 + 120 = 48120 parameters.\n",
    "model.add(Flatten())\n",
    "model.add(Dense(120, activation='relu'))\n",
    "# The number of input nodes in this layer is 120 and the number of output nodes is 84. The total parameter is 120 * 84 + 84 = 10164 (w + b)\n",
    "model.add(Dense(84, activation='relu'))\n",
    "# The number of input nodes in this layer is 84 and the number of output nodes is 10. The total parameter is 84 * 10 + 10 = 850\n",
    "model.add(Dense(10, activation='softmax'))\n",
    "\n",
    "model.summary()\n",
    "model.compile(optimizer='adam',\n",
    "              loss='categorical_crossentropy',\n",
    "              metrics=['accuracy'])\n",
    "# Set a learning rate annealer\n",
    "learning_rate_reduction = ReduceLROnPlateau(monitor='val_acc', \n",
    "                                            patience=3, \n",
    "                                            verbose=1, \n",
    "                                            factor=0.5, \n",
    "                                            min_lr=0.00001)\n"
   ]
  },
  {
   "cell_type": "code",
   "execution_count": 12,
   "metadata": {},
   "outputs": [
    {
     "name": "stdout",
     "output_type": "stream",
     "text": [
      "Train on 31500 samples, validate on 10500 samples\n",
      "Epoch 1/25\n",
      "31500/31500 [==============================] - 7s 234us/step - loss: 0.5538 - accuracy: 0.8220 - val_loss: 0.4579 - val_accuracy: 0.9412\n",
      "Epoch 2/25\n",
      "31500/31500 [==============================] - 9s 277us/step - loss: 0.1682 - accuracy: 0.9458 - val_loss: 0.1201 - val_accuracy: 0.9679\n",
      "Epoch 3/25\n",
      "31500/31500 [==============================] - 9s 277us/step - loss: 0.1283 - accuracy: 0.9591 - val_loss: 0.0777 - val_accuracy: 0.9761\n",
      "Epoch 4/25\n",
      "31500/31500 [==============================] - 9s 278us/step - loss: 0.1042 - accuracy: 0.9667 - val_loss: 0.0684 - val_accuracy: 0.9779\n",
      "Epoch 5/25\n",
      "31500/31500 [==============================] - 9s 278us/step - loss: 0.0948 - accuracy: 0.9702 - val_loss: 0.0564 - val_accuracy: 0.9827\n",
      "Epoch 6/25\n",
      "31500/31500 [==============================] - 9s 278us/step - loss: 0.0792 - accuracy: 0.9742 - val_loss: 0.0543 - val_accuracy: 0.9841\n",
      "Epoch 7/25\n",
      "31500/31500 [==============================] - 9s 283us/step - loss: 0.0751 - accuracy: 0.9767 - val_loss: 0.0507 - val_accuracy: 0.9843\n",
      "Epoch 8/25\n",
      "31500/31500 [==============================] - 9s 296us/step - loss: 0.0642 - accuracy: 0.9793 - val_loss: 0.0523 - val_accuracy: 0.9838\n",
      "Epoch 9/25\n",
      "31500/31500 [==============================] - 9s 281us/step - loss: 0.0625 - accuracy: 0.9800 - val_loss: 0.0475 - val_accuracy: 0.9856\n",
      "Epoch 10/25\n",
      "31500/31500 [==============================] - 9s 280us/step - loss: 0.0592 - accuracy: 0.9810 - val_loss: 0.0444 - val_accuracy: 0.9857\n",
      "Epoch 11/25\n",
      "31500/31500 [==============================] - 9s 281us/step - loss: 0.0545 - accuracy: 0.9830 - val_loss: 0.0420 - val_accuracy: 0.9863\n",
      "Epoch 12/25\n",
      "31500/31500 [==============================] - 9s 300us/step - loss: 0.0517 - accuracy: 0.9825 - val_loss: 0.0437 - val_accuracy: 0.9869\n",
      "Epoch 13/25\n",
      "31500/31500 [==============================] - 9s 299us/step - loss: 0.0502 - accuracy: 0.9838 - val_loss: 0.0414 - val_accuracy: 0.9880\n",
      "Epoch 14/25\n",
      "31500/31500 [==============================] - 9s 293us/step - loss: 0.0433 - accuracy: 0.9857 - val_loss: 0.0392 - val_accuracy: 0.9883\n",
      "Epoch 15/25\n",
      "31500/31500 [==============================] - 9s 298us/step - loss: 0.0446 - accuracy: 0.9854 - val_loss: 0.0454 - val_accuracy: 0.9858\n",
      "Epoch 16/25\n",
      "31500/31500 [==============================] - 11s 356us/step - loss: 0.0437 - accuracy: 0.9863 - val_loss: 0.0367 - val_accuracy: 0.9890\n",
      "Epoch 17/25\n",
      "31500/31500 [==============================] - 12s 370us/step - loss: 0.0409 - accuracy: 0.9862 - val_loss: 0.0385 - val_accuracy: 0.9885\n",
      "Epoch 18/25\n",
      "31500/31500 [==============================] - 12s 375us/step - loss: 0.0376 - accuracy: 0.9877 - val_loss: 0.0420 - val_accuracy: 0.9870\n",
      "Epoch 19/25\n",
      "31500/31500 [==============================] - 12s 383us/step - loss: 0.0414 - accuracy: 0.9858 - val_loss: 0.0394 - val_accuracy: 0.9882\n",
      "Epoch 20/25\n",
      "31500/31500 [==============================] - 17s 553us/step - loss: 0.0369 - accuracy: 0.9878 - val_loss: 0.0384 - val_accuracy: 0.9890\n",
      "Epoch 21/25\n",
      "31500/31500 [==============================] - 14s 445us/step - loss: 0.0353 - accuracy: 0.9880 - val_loss: 0.0388 - val_accuracy: 0.9884\n",
      "Epoch 22/25\n",
      "31500/31500 [==============================] - 14s 433us/step - loss: 0.0386 - accuracy: 0.9872 - val_loss: 0.0410 - val_accuracy: 0.9888\n",
      "Epoch 23/25\n",
      "31500/31500 [==============================] - 13s 405us/step - loss: 0.0324 - accuracy: 0.9893 - val_loss: 0.0383 - val_accuracy: 0.9886\n",
      "Epoch 24/25\n",
      "31500/31500 [==============================] - 14s 430us/step - loss: 0.0309 - accuracy: 0.9897 - val_loss: 0.0396 - val_accuracy: 0.9892\n",
      "Epoch 25/25\n",
      "31500/31500 [==============================] - 14s 448us/step - loss: 0.0343 - accuracy: 0.9885 - val_loss: 0.0388 - val_accuracy: 0.9887\n",
      "10500/10500 [==============================] - 2s 189us/step\n",
      "Test Loss: 0.03875681262044236\n",
      "Test accuracy: 0.9886666536331177\n"
     ]
    }
   ],
   "source": [
    "model.fit(X_train, Y_train, batch_size=128, epochs=25, verbose=1, validation_data=(X_val, Y_val))\n",
    "score = model.evaluate(X_val, Y_val)\n",
    "print('Test Loss:', score[0])\n",
    "print('Test accuracy:', score[1])"
   ]
  },
  {
   "cell_type": "code",
   "execution_count": 13,
   "metadata": {},
   "outputs": [
    {
     "name": "stdout",
     "output_type": "stream",
     "text": [
      "Saved model to disk\n"
     ]
    }
   ],
   "source": [
    "model_json = model.to_json()\n",
    "with open(\"model.json\", \"w\") as json_file:\n",
    "    json_file.write(model_json)\n",
    "# serialize weights to HDF5\n",
    "model.save_weights(\"model.h5\")\n",
    "print(\"Saved model to disk\")\n"
   ]
  },
  {
   "cell_type": "code",
   "execution_count": null,
   "metadata": {},
   "outputs": [],
   "source": []
  },
  {
   "cell_type": "code",
   "execution_count": null,
   "metadata": {},
   "outputs": [],
   "source": []
  },
  {
   "cell_type": "code",
   "execution_count": null,
   "metadata": {},
   "outputs": [],
   "source": []
  }
 ],
 "metadata": {
  "kernelspec": {
   "display_name": "Python 3",
   "language": "python",
   "name": "python3"
  },
  "language_info": {
   "codemirror_mode": {
    "name": "ipython",
    "version": 3
   },
   "file_extension": ".py",
   "mimetype": "text/x-python",
   "name": "python",
   "nbconvert_exporter": "python",
   "pygments_lexer": "ipython3",
   "version": "3.6.10"
  }
 },
 "nbformat": 4,
 "nbformat_minor": 4
}
